{
 "cells": [
  {
   "cell_type": "code",
   "execution_count": 2,
   "id": "b91d115f",
   "metadata": {},
   "outputs": [],
   "source": [
    "import pandas as pd\n",
    "import numpy as np\n",
    "import pickle"
   ]
  },
  {
   "cell_type": "code",
   "execution_count": 5,
   "id": "c45cdc4e",
   "metadata": {},
   "outputs": [],
   "source": [
    "avocados = pd.read_pickle(\"../data/avocado.pkl\")"
   ]
  },
  {
   "cell_type": "code",
   "execution_count": 8,
   "id": "1dab98d8",
   "metadata": {},
   "outputs": [
    {
     "name": "stdout",
     "output_type": "stream",
     "text": [
      "<class 'pandas.core.frame.DataFrame'>\n",
      "RangeIndex: 1014 entries, 0 to 1013\n",
      "Data columns (total 6 columns):\n",
      " #   Column     Non-Null Count  Dtype  \n",
      "---  ------     --------------  -----  \n",
      " 0   date       1014 non-null   object \n",
      " 1   type       1014 non-null   object \n",
      " 2   year       1014 non-null   int64  \n",
      " 3   avg_price  1014 non-null   float64\n",
      " 4   size       1014 non-null   object \n",
      " 5   nb_sold    1014 non-null   float64\n",
      "dtypes: float64(2), int64(1), object(3)\n",
      "memory usage: 47.7+ KB\n"
     ]
    },
    {
     "data": {
      "text/plain": [
       "date        type          year  avg_price  size         nb_sold    \n",
       "2015-01-04  conventional  2015  0.95       extra_large  844093.32      1\n",
       "2017-03-05  organic       2017  1.16       extra_large  2542.94        1\n",
       "2017-02-19  conventional  2017  0.99       small        11321732.40    1\n",
       "            organic       2017  1.31       extra_large  3295.09        1\n",
       "                                           large        632101.53      1\n",
       "                                                                      ..\n",
       "2016-02-07  conventional  2016  0.76       extra_large  2546439.11     1\n",
       "                                           large        20470572.61    1\n",
       "                                           small        16573573.78    1\n",
       "            organic       2016  1.44       extra_large  8028.75        1\n",
       "2018-03-25  organic       2018  1.55       small        121007.94      1\n",
       "Length: 1014, dtype: int64"
      ]
     },
     "execution_count": 8,
     "metadata": {},
     "output_type": "execute_result"
    }
   ],
   "source": [
    "avocados.head()\n",
    "avocados.info()\n",
    "avocados.value_counts()"
   ]
  },
  {
   "cell_type": "code",
   "execution_count": null,
   "id": "c6cffed0",
   "metadata": {},
   "outputs": [],
   "source": []
  },
  {
   "cell_type": "code",
   "execution_count": null,
   "id": "8e26b060",
   "metadata": {},
   "outputs": [],
   "source": []
  }
 ],
 "metadata": {
  "kernelspec": {
   "display_name": "Python 3",
   "language": "python",
   "name": "python3"
  },
  "language_info": {
   "codemirror_mode": {
    "name": "ipython",
    "version": 3
   },
   "file_extension": ".py",
   "mimetype": "text/x-python",
   "name": "python",
   "nbconvert_exporter": "python",
   "pygments_lexer": "ipython3",
   "version": "3.8.8"
  }
 },
 "nbformat": 4,
 "nbformat_minor": 5
}
