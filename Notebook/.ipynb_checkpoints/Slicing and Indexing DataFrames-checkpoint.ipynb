{
 "cells": [
  {
   "cell_type": "code",
   "execution_count": 1,
   "id": "28191595",
   "metadata": {},
   "outputs": [],
   "source": [
    "import pandas as pd\n",
    "import numpy as np"
   ]
  },
  {
   "cell_type": "code",
   "execution_count": 2,
   "id": "df60cba3",
   "metadata": {},
   "outputs": [],
   "source": [
    "temperatures = pd.read_csv(\"../data/temperatures.csv\")"
   ]
  },
  {
   "cell_type": "code",
   "execution_count": 5,
   "id": "57c03ede",
   "metadata": {},
   "outputs": [
    {
     "name": "stdout",
     "output_type": "stream",
     "text": [
      "<class 'pandas.core.frame.DataFrame'>\n",
      "RangeIndex: 16500 entries, 0 to 16499\n",
      "Data columns (total 5 columns):\n",
      " #   Column      Non-Null Count  Dtype  \n",
      "---  ------      --------------  -----  \n",
      " 0   Unnamed: 0  16500 non-null  int64  \n",
      " 1   date        16500 non-null  object \n",
      " 2   city        16500 non-null  object \n",
      " 3   country     16500 non-null  object \n",
      " 4   avg_temp_c  16407 non-null  float64\n",
      "dtypes: float64(1), int64(1), object(3)\n",
      "memory usage: 644.7+ KB\n"
     ]
    },
    {
     "data": {
      "text/plain": [
       "Unnamed: 0  date        city     country        avg_temp_c\n",
       "0           2000-01-01  Abidjan  Côte D'Ivoire  27.293        1\n",
       "10829       2008-09-01  Moscow   Russia         10.741        1\n",
       "10992       2008-07-01  Nagoya   Japan          27.089        1\n",
       "10993       2008-08-01  Nagoya   Japan          26.974        1\n",
       "10994       2008-09-01  Nagoya   Japan          23.220        1\n",
       "                                                             ..\n",
       "5506        2005-02-01  Harare   Zimbabwe       23.297        1\n",
       "5507        2005-03-01  Harare   Zimbabwe       22.802        1\n",
       "5508        2005-04-01  Harare   Zimbabwe       21.280        1\n",
       "5509        2005-05-01  Harare   Zimbabwe       19.356        1\n",
       "16498       2013-08-01  Xian     China          24.528        1\n",
       "Length: 16407, dtype: int64"
      ]
     },
     "execution_count": 5,
     "metadata": {},
     "output_type": "execute_result"
    }
   ],
   "source": [
    "temperatures.head()\n",
    "temperatures.info()\n",
    "temperatures.value_counts()"
   ]
  },
  {
   "cell_type": "code",
   "execution_count": null,
   "id": "ded93d4e",
   "metadata": {},
   "outputs": [],
   "source": []
  },
  {
   "cell_type": "code",
   "execution_count": null,
   "id": "29ff1e62",
   "metadata": {},
   "outputs": [],
   "source": []
  },
  {
   "cell_type": "code",
   "execution_count": null,
   "id": "2502db66",
   "metadata": {},
   "outputs": [],
   "source": []
  }
 ],
 "metadata": {
  "kernelspec": {
   "display_name": "Python 3",
   "language": "python",
   "name": "python3"
  },
  "language_info": {
   "codemirror_mode": {
    "name": "ipython",
    "version": 3
   },
   "file_extension": ".py",
   "mimetype": "text/x-python",
   "name": "python",
   "nbconvert_exporter": "python",
   "pygments_lexer": "ipython3",
   "version": "3.8.8"
  }
 },
 "nbformat": 4,
 "nbformat_minor": 5
}
