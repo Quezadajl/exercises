{
 "cells": [
  {
   "cell_type": "code",
   "execution_count": 1,
   "id": "69b211b1",
   "metadata": {},
   "outputs": [],
   "source": [
    "import pandas as pd\n",
    "import numpy as np"
   ]
  },
  {
   "cell_type": "code",
   "execution_count": 2,
   "id": "1b0aec33",
   "metadata": {},
   "outputs": [],
   "source": [
    "temperatures = pd.read_csv(\"../data/temperatures.csv\")"
   ]
  },
  {
   "cell_type": "code",
   "execution_count": 3,
   "id": "38f99c76",
   "metadata": {},
   "outputs": [
    {
     "name": "stdout",
     "output_type": "stream",
     "text": [
      "<class 'pandas.core.frame.DataFrame'>\n",
      "RangeIndex: 16500 entries, 0 to 16499\n",
      "Data columns (total 5 columns):\n",
      " #   Column      Non-Null Count  Dtype  \n",
      "---  ------      --------------  -----  \n",
      " 0   Unnamed: 0  16500 non-null  int64  \n",
      " 1   date        16500 non-null  object \n",
      " 2   city        16500 non-null  object \n",
      " 3   country     16500 non-null  object \n",
      " 4   avg_temp_c  16407 non-null  float64\n",
      "dtypes: float64(1), int64(1), object(3)\n",
      "memory usage: 644.7+ KB\n"
     ]
    },
    {
     "data": {
      "text/plain": [
       "Unnamed: 0  date        city     country        avg_temp_c\n",
       "0           2000-01-01  Abidjan  Côte D'Ivoire  27.293        1\n",
       "10829       2008-09-01  Moscow   Russia         10.741        1\n",
       "10992       2008-07-01  Nagoya   Japan          27.089        1\n",
       "10993       2008-08-01  Nagoya   Japan          26.974        1\n",
       "10994       2008-09-01  Nagoya   Japan          23.220        1\n",
       "                                                             ..\n",
       "5506        2005-02-01  Harare   Zimbabwe       23.297        1\n",
       "5507        2005-03-01  Harare   Zimbabwe       22.802        1\n",
       "5508        2005-04-01  Harare   Zimbabwe       21.280        1\n",
       "5509        2005-05-01  Harare   Zimbabwe       19.356        1\n",
       "16498       2013-08-01  Xian     China          24.528        1\n",
       "Length: 16407, dtype: int64"
      ]
     },
     "execution_count": 3,
     "metadata": {},
     "output_type": "execute_result"
    }
   ],
   "source": [
    "temperatures.head()\n",
    "temperatures.info()\n",
    "temperatures.value_counts()"
   ]
  },
  {
   "cell_type": "code",
   "execution_count": 4,
   "id": "69a62c94",
   "metadata": {},
   "outputs": [
    {
     "name": "stdout",
     "output_type": "stream",
     "text": [
      "         Unnamed: 0        date        country  avg_temp_c\n",
      "city                                                      \n",
      "Abidjan           0  2000-01-01  Côte D'Ivoire      27.293\n",
      "Abidjan           1  2000-02-01  Côte D'Ivoire      27.685\n",
      "Abidjan           2  2000-03-01  Côte D'Ivoire      29.061\n",
      "Abidjan           3  2000-04-01  Côte D'Ivoire      28.162\n",
      "Abidjan           4  2000-05-01  Côte D'Ivoire      27.547\n",
      "...             ...         ...            ...         ...\n",
      "Xian          16495  2013-05-01          China      18.979\n",
      "Xian          16496  2013-06-01          China      23.522\n",
      "Xian          16497  2013-07-01          China      25.251\n",
      "Xian          16498  2013-08-01          China      24.528\n",
      "Xian          16499  2013-09-01          China         NaN\n",
      "\n",
      "[16500 rows x 4 columns]\n"
     ]
    },
    {
     "data": {
      "text/html": [
       "<div>\n",
       "<style scoped>\n",
       "    .dataframe tbody tr th:only-of-type {\n",
       "        vertical-align: middle;\n",
       "    }\n",
       "\n",
       "    .dataframe tbody tr th {\n",
       "        vertical-align: top;\n",
       "    }\n",
       "\n",
       "    .dataframe thead th {\n",
       "        text-align: right;\n",
       "    }\n",
       "</style>\n",
       "<table border=\"1\" class=\"dataframe\">\n",
       "  <thead>\n",
       "    <tr style=\"text-align: right;\">\n",
       "      <th></th>\n",
       "      <th>Unnamed: 0</th>\n",
       "      <th>date</th>\n",
       "      <th>country</th>\n",
       "      <th>avg_temp_c</th>\n",
       "    </tr>\n",
       "  </thead>\n",
       "  <tbody>\n",
       "    <tr>\n",
       "      <th>0</th>\n",
       "      <td>0</td>\n",
       "      <td>2000-01-01</td>\n",
       "      <td>Côte D'Ivoire</td>\n",
       "      <td>27.293</td>\n",
       "    </tr>\n",
       "    <tr>\n",
       "      <th>1</th>\n",
       "      <td>1</td>\n",
       "      <td>2000-02-01</td>\n",
       "      <td>Côte D'Ivoire</td>\n",
       "      <td>27.685</td>\n",
       "    </tr>\n",
       "    <tr>\n",
       "      <th>2</th>\n",
       "      <td>2</td>\n",
       "      <td>2000-03-01</td>\n",
       "      <td>Côte D'Ivoire</td>\n",
       "      <td>29.061</td>\n",
       "    </tr>\n",
       "    <tr>\n",
       "      <th>3</th>\n",
       "      <td>3</td>\n",
       "      <td>2000-04-01</td>\n",
       "      <td>Côte D'Ivoire</td>\n",
       "      <td>28.162</td>\n",
       "    </tr>\n",
       "    <tr>\n",
       "      <th>4</th>\n",
       "      <td>4</td>\n",
       "      <td>2000-05-01</td>\n",
       "      <td>Côte D'Ivoire</td>\n",
       "      <td>27.547</td>\n",
       "    </tr>\n",
       "    <tr>\n",
       "      <th>...</th>\n",
       "      <td>...</td>\n",
       "      <td>...</td>\n",
       "      <td>...</td>\n",
       "      <td>...</td>\n",
       "    </tr>\n",
       "    <tr>\n",
       "      <th>16495</th>\n",
       "      <td>16495</td>\n",
       "      <td>2013-05-01</td>\n",
       "      <td>China</td>\n",
       "      <td>18.979</td>\n",
       "    </tr>\n",
       "    <tr>\n",
       "      <th>16496</th>\n",
       "      <td>16496</td>\n",
       "      <td>2013-06-01</td>\n",
       "      <td>China</td>\n",
       "      <td>23.522</td>\n",
       "    </tr>\n",
       "    <tr>\n",
       "      <th>16497</th>\n",
       "      <td>16497</td>\n",
       "      <td>2013-07-01</td>\n",
       "      <td>China</td>\n",
       "      <td>25.251</td>\n",
       "    </tr>\n",
       "    <tr>\n",
       "      <th>16498</th>\n",
       "      <td>16498</td>\n",
       "      <td>2013-08-01</td>\n",
       "      <td>China</td>\n",
       "      <td>24.528</td>\n",
       "    </tr>\n",
       "    <tr>\n",
       "      <th>16499</th>\n",
       "      <td>16499</td>\n",
       "      <td>2013-09-01</td>\n",
       "      <td>China</td>\n",
       "      <td>NaN</td>\n",
       "    </tr>\n",
       "  </tbody>\n",
       "</table>\n",
       "<p>16500 rows × 4 columns</p>\n",
       "</div>"
      ],
      "text/plain": [
       "       Unnamed: 0        date        country  avg_temp_c\n",
       "0               0  2000-01-01  Côte D'Ivoire      27.293\n",
       "1               1  2000-02-01  Côte D'Ivoire      27.685\n",
       "2               2  2000-03-01  Côte D'Ivoire      29.061\n",
       "3               3  2000-04-01  Côte D'Ivoire      28.162\n",
       "4               4  2000-05-01  Côte D'Ivoire      27.547\n",
       "...           ...         ...            ...         ...\n",
       "16495       16495  2013-05-01          China      18.979\n",
       "16496       16496  2013-06-01          China      23.522\n",
       "16497       16497  2013-07-01          China      25.251\n",
       "16498       16498  2013-08-01          China      24.528\n",
       "16499       16499  2013-09-01          China         NaN\n",
       "\n",
       "[16500 rows x 4 columns]"
      ]
     },
     "execution_count": 4,
     "metadata": {},
     "output_type": "execute_result"
    }
   ],
   "source": [
    "temp_ind=temperatures.set_index('city')#Move a column from the body of an dataframe to be the index\n",
    "print(temp_ind)\n",
    "temp_ind.reset_index(drop=True)"
   ]
  },
  {
   "cell_type": "code",
   "execution_count": 5,
   "id": "769d1c0c",
   "metadata": {},
   "outputs": [
    {
     "data": {
      "text/html": [
       "<div>\n",
       "<style scoped>\n",
       "    .dataframe tbody tr th:only-of-type {\n",
       "        vertical-align: middle;\n",
       "    }\n",
       "\n",
       "    .dataframe tbody tr th {\n",
       "        vertical-align: top;\n",
       "    }\n",
       "\n",
       "    .dataframe thead th {\n",
       "        text-align: right;\n",
       "    }\n",
       "</style>\n",
       "<table border=\"1\" class=\"dataframe\">\n",
       "  <thead>\n",
       "    <tr style=\"text-align: right;\">\n",
       "      <th></th>\n",
       "      <th>Unnamed: 0</th>\n",
       "      <th>date</th>\n",
       "      <th>country</th>\n",
       "      <th>avg_temp_c</th>\n",
       "    </tr>\n",
       "    <tr>\n",
       "      <th>city</th>\n",
       "      <th></th>\n",
       "      <th></th>\n",
       "      <th></th>\n",
       "      <th></th>\n",
       "    </tr>\n",
       "  </thead>\n",
       "  <tbody>\n",
       "    <tr>\n",
       "      <th>Xian</th>\n",
       "      <td>16335</td>\n",
       "      <td>2000-01-01</td>\n",
       "      <td>China</td>\n",
       "      <td>-2.819</td>\n",
       "    </tr>\n",
       "    <tr>\n",
       "      <th>Xian</th>\n",
       "      <td>16336</td>\n",
       "      <td>2000-02-01</td>\n",
       "      <td>China</td>\n",
       "      <td>0.943</td>\n",
       "    </tr>\n",
       "    <tr>\n",
       "      <th>Xian</th>\n",
       "      <td>16337</td>\n",
       "      <td>2000-03-01</td>\n",
       "      <td>China</td>\n",
       "      <td>8.997</td>\n",
       "    </tr>\n",
       "    <tr>\n",
       "      <th>Xian</th>\n",
       "      <td>16338</td>\n",
       "      <td>2000-04-01</td>\n",
       "      <td>China</td>\n",
       "      <td>13.714</td>\n",
       "    </tr>\n",
       "    <tr>\n",
       "      <th>Xian</th>\n",
       "      <td>16339</td>\n",
       "      <td>2000-05-01</td>\n",
       "      <td>China</td>\n",
       "      <td>20.568</td>\n",
       "    </tr>\n",
       "    <tr>\n",
       "      <th>...</th>\n",
       "      <td>...</td>\n",
       "      <td>...</td>\n",
       "      <td>...</td>\n",
       "      <td>...</td>\n",
       "    </tr>\n",
       "    <tr>\n",
       "      <th>Mexico</th>\n",
       "      <td>10390</td>\n",
       "      <td>2013-05-01</td>\n",
       "      <td>Mexico</td>\n",
       "      <td>19.155</td>\n",
       "    </tr>\n",
       "    <tr>\n",
       "      <th>Mexico</th>\n",
       "      <td>10391</td>\n",
       "      <td>2013-06-01</td>\n",
       "      <td>Mexico</td>\n",
       "      <td>18.924</td>\n",
       "    </tr>\n",
       "    <tr>\n",
       "      <th>Mexico</th>\n",
       "      <td>10392</td>\n",
       "      <td>2013-07-01</td>\n",
       "      <td>Mexico</td>\n",
       "      <td>18.091</td>\n",
       "    </tr>\n",
       "    <tr>\n",
       "      <th>Mexico</th>\n",
       "      <td>10393</td>\n",
       "      <td>2013-08-01</td>\n",
       "      <td>Mexico</td>\n",
       "      <td>17.882</td>\n",
       "    </tr>\n",
       "    <tr>\n",
       "      <th>Mexico</th>\n",
       "      <td>10394</td>\n",
       "      <td>2013-09-01</td>\n",
       "      <td>Mexico</td>\n",
       "      <td>18.313</td>\n",
       "    </tr>\n",
       "  </tbody>\n",
       "</table>\n",
       "<p>330 rows × 4 columns</p>\n",
       "</div>"
      ],
      "text/plain": [
       "        Unnamed: 0        date country  avg_temp_c\n",
       "city                                              \n",
       "Xian         16335  2000-01-01   China      -2.819\n",
       "Xian         16336  2000-02-01   China       0.943\n",
       "Xian         16337  2000-03-01   China       8.997\n",
       "Xian         16338  2000-04-01   China      13.714\n",
       "Xian         16339  2000-05-01   China      20.568\n",
       "...            ...         ...     ...         ...\n",
       "Mexico       10390  2013-05-01  Mexico      19.155\n",
       "Mexico       10391  2013-06-01  Mexico      18.924\n",
       "Mexico       10392  2013-07-01  Mexico      18.091\n",
       "Mexico       10393  2013-08-01  Mexico      17.882\n",
       "Mexico       10394  2013-09-01  Mexico      18.313\n",
       "\n",
       "[330 rows x 4 columns]"
      ]
     },
     "execution_count": 5,
     "metadata": {},
     "output_type": "execute_result"
    }
   ],
   "source": [
    "#indexes make subsetting code cleaner\n",
    "temperatures[temperatures['city'].isin(['Xian','Mexico'])]\n",
    "temp_ind.loc[['Xian','Mexico']]#loc filters index values"
   ]
  },
  {
   "cell_type": "code",
   "execution_count": 6,
   "id": "428ba977",
   "metadata": {},
   "outputs": [
    {
     "name": "stdout",
     "output_type": "stream",
     "text": [
      "       Unnamed: 0        date              city country  avg_temp_c\n",
      "10725       10725  2000-01-01            Moscow  Russia      -7.313\n",
      "10726       10726  2000-02-01            Moscow  Russia      -3.551\n",
      "10727       10727  2000-03-01            Moscow  Russia      -1.661\n",
      "10728       10728  2000-04-01            Moscow  Russia      10.096\n",
      "10729       10729  2000-05-01            Moscow  Russia      10.357\n",
      "...           ...         ...               ...     ...         ...\n",
      "13360       13360  2013-05-01  Saint Petersburg  Russia      12.355\n",
      "13361       13361  2013-06-01  Saint Petersburg  Russia      17.185\n",
      "13362       13362  2013-07-01  Saint Petersburg  Russia      17.234\n",
      "13363       13363  2013-08-01  Saint Petersburg  Russia      17.153\n",
      "13364       13364  2013-09-01  Saint Petersburg  Russia         NaN\n",
      "\n",
      "[330 rows x 5 columns]\n",
      "                  Unnamed: 0        date country  avg_temp_c\n",
      "city                                                        \n",
      "Moscow                 10725  2000-01-01  Russia      -7.313\n",
      "Moscow                 10726  2000-02-01  Russia      -3.551\n",
      "Moscow                 10727  2000-03-01  Russia      -1.661\n",
      "Moscow                 10728  2000-04-01  Russia      10.096\n",
      "Moscow                 10729  2000-05-01  Russia      10.357\n",
      "...                      ...         ...     ...         ...\n",
      "Saint Petersburg       13360  2013-05-01  Russia      12.355\n",
      "Saint Petersburg       13361  2013-06-01  Russia      17.185\n",
      "Saint Petersburg       13362  2013-07-01  Russia      17.234\n",
      "Saint Petersburg       13363  2013-08-01  Russia      17.153\n",
      "Saint Petersburg       13364  2013-09-01  Russia         NaN\n",
      "\n",
      "[330 rows x 4 columns]\n"
     ]
    }
   ],
   "source": [
    "#indexing Part2 from Datacamp\n",
    "cities =['Moscow', 'Saint Petersburg']\n",
    "print(temperatures[temperatures['city'].isin(cities)])\n",
    "print(temp_ind.loc[cities])"
   ]
  },
  {
   "cell_type": "code",
   "execution_count": null,
   "id": "f4afc650",
   "metadata": {},
   "outputs": [],
   "source": [
    "#Hierarchical indexes\n",
    "temps_ind3=temperatures.set_index(['city','country'])\n",
    "temps_ind3.loc[['Xian','Mexico']]#subset\n",
    "#subset on inner levels;pass a list of tuples\n",
    "temps_ind3.loc[[('Xian','China'),('Mexico','Mexico')]]#has to match all of the conditions from the loc"
   ]
  },
  {
   "cell_type": "code",
   "execution_count": null,
   "id": "ec78dc6d",
   "metadata": {},
   "outputs": [],
   "source": [
    "#Subsetting and using tuples\n",
    "temperatures_ind = temperatures.set_index(['country','city'])\n",
    "rows_to_keep = [('Brazil','Rio De Janeiro'),('Pakistan','Lahore')]\n",
    "print(temperatures_ind.loc[rows_to_keep])"
   ]
  },
  {
   "cell_type": "code",
   "execution_count": null,
   "id": "9a4935a3",
   "metadata": {},
   "outputs": [],
   "source": [
    "temps_ind3.sort_index(level=['city','country'], ascending=[True,False])"
   ]
  },
  {
   "cell_type": "markdown",
   "id": "5f74a931",
   "metadata": {},
   "source": [
    "print(temp_ind.sort_index())\n",
    "print(temp_ind.sort_index(level='city'))\n",
    "print(temp_ind.sort_index(level=['country','city'], ascending=[True, False]))\n",
    "#Using the level feature allows for specific column sorting"
   ]
  },
  {
   "cell_type": "markdown",
   "id": "f6aacaab",
   "metadata": {},
   "source": [
    "## Slicing and subsetting with .loc and .iloc"
   ]
  },
  {
   "cell_type": "code",
   "execution_count": null,
   "id": "48341391",
   "metadata": {},
   "outputs": [],
   "source": [
    "temperatures[2:5]#python starts from zero;last digit is not used or accounted for"
   ]
  },
  {
   "cell_type": "code",
   "execution_count": null,
   "id": "4dcf9024",
   "metadata": {},
   "outputs": [],
   "source": [
    "temps_srt = temperatures.set_index(['country','city']).sort_index()\n",
    "print(temps_srt)"
   ]
  },
  {
   "cell_type": "code",
   "execution_count": null,
   "id": "e73d7af7",
   "metadata": {},
   "outputs": [],
   "source": [
    "#Slicing the outer index level(rows)\n",
    "temps_srt.loc['China':'Mexico']#final value is included"
   ]
  },
  {
   "cell_type": "code",
   "execution_count": null,
   "id": "b14a55c9",
   "metadata": {},
   "outputs": [],
   "source": [
    "temps_srt.loc[('China','Xian'):('Mexico','Mexico')]#Slicing the inner index levels correctly(rows)"
   ]
  },
  {
   "cell_type": "code",
   "execution_count": null,
   "id": "ae18ef39",
   "metadata": {},
   "outputs": [],
   "source": [
    "#Slicing Columns with the appropriate format\n",
    "temps_srt.loc[:,'date':'avg_temp_c']"
   ]
  },
  {
   "cell_type": "code",
   "execution_count": null,
   "id": "f0b51deb",
   "metadata": {},
   "outputs": [],
   "source": [
    "temps_srt.loc[('Mexico','Mexico'):('Zimbabwe','Harare'), 'date':'avg_temp_c']\n",
    "#Slicing both rows and columns with the precises calls"
   ]
  },
  {
   "cell_type": "code",
   "execution_count": null,
   "id": "0d84fa87",
   "metadata": {},
   "outputs": [],
   "source": [
    "#Using slicing to subset dataframes\n",
    "date_temps = temperatures.set_index('date').sort_index()\n",
    "print(date_temps)"
   ]
  },
  {
   "cell_type": "code",
   "execution_count": null,
   "id": "f8aa8e39",
   "metadata": {},
   "outputs": [],
   "source": [
    "#slicing by date\n",
    "date_temps.loc['2000-01-01':'2003-01-01']"
   ]
  },
  {
   "cell_type": "code",
   "execution_count": null,
   "id": "5fa1ef61",
   "metadata": {},
   "outputs": [],
   "source": [
    "#slicing by date-year\n",
    "date_temps.loc['2000':'2003']"
   ]
  },
  {
   "cell_type": "code",
   "execution_count": null,
   "id": "230a0daa",
   "metadata": {},
   "outputs": [],
   "source": [
    "#slicing in both directions:\n",
    "temps_srt.loc[('India','Hyderabad'):('Iraq','Baghdad'), 'date':'avg_temp_c']\n",
    "#Slicing both rows and columns with the precises calls"
   ]
  },
  {
   "cell_type": "code",
   "execution_count": null,
   "id": "e52472b2",
   "metadata": {},
   "outputs": [],
   "source": [
    "#Slicing time series\n",
    "temperatures_bool = temperatures[(temperatures['date'] >= '2010-01-01') & (temperatures['date'] <= '2011-12-31')]\n",
    "print(temperatures_bool)\n",
    "#set date as teh index and sort the index\n",
    "temperatures_ind = temperatures.set_index('date').sort_index()\n",
    "#Use .loc[] to subset temperatures_ind for rows in 2010 and 2011\n",
    "print(temperatures_ind.loc['2010':'2011'])\n",
    "\n",
    "#Use .loc[] to subset temperatures_ind for rows from Aug 2010 to Feb 2011\n",
    "print(temperatures_ind.loc['2010-08':'2011-02'])"
   ]
  },
  {
   "cell_type": "code",
   "execution_count": null,
   "id": "019cddb8",
   "metadata": {},
   "outputs": [],
   "source": [
    "#Get 23rd row, 2nd column (index 22, 1)\n",
    "print(temperatures.iloc[22,1])\n",
    "print(temperatures.iloc[:5]) #slicing to get the first 5 rows\n",
    "print(temperatures.iloc[:,2:4])#slicing to get columns 3 to 4\n",
    "print(temperatures.iloc[:5,2:4])#slicing first 5 rows, columns 3 and 4"
   ]
  },
  {
   "cell_type": "code",
   "execution_count": null,
   "id": "38701d09",
   "metadata": {},
   "outputs": [],
   "source": []
  },
  {
   "cell_type": "code",
   "execution_count": null,
   "id": "eef2033d",
   "metadata": {},
   "outputs": [],
   "source": []
  },
  {
   "cell_type": "code",
   "execution_count": null,
   "id": "5fd6a77b",
   "metadata": {},
   "outputs": [],
   "source": []
  }
 ],
 "metadata": {
  "kernelspec": {
   "display_name": "Python 3",
   "language": "python",
   "name": "python3"
  },
  "language_info": {
   "codemirror_mode": {
    "name": "ipython",
    "version": 3
   },
   "file_extension": ".py",
   "mimetype": "text/x-python",
   "name": "python",
   "nbconvert_exporter": "python",
   "pygments_lexer": "ipython3",
   "version": "3.8.8"
  }
 },
 "nbformat": 4,
 "nbformat_minor": 5
}
