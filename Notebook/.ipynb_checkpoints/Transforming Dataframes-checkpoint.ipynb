{
 "cells": [
  {
   "cell_type": "code",
   "execution_count": 1,
   "id": "0ccd82a9",
   "metadata": {},
   "outputs": [],
   "source": [
    "import pandas as pd\n",
    "import numpy as np"
   ]
  },
  {
   "cell_type": "code",
   "execution_count": 2,
   "id": "e50b469d",
   "metadata": {},
   "outputs": [],
   "source": [
    "df = pd.read_csv(\"../data/homelessness.csv\")"
   ]
  },
  {
   "cell_type": "code",
   "execution_count": 3,
   "id": "cc806310",
   "metadata": {},
   "outputs": [
    {
     "data": {
      "text/html": [
       "<div>\n",
       "<style scoped>\n",
       "    .dataframe tbody tr th:only-of-type {\n",
       "        vertical-align: middle;\n",
       "    }\n",
       "\n",
       "    .dataframe tbody tr th {\n",
       "        vertical-align: top;\n",
       "    }\n",
       "\n",
       "    .dataframe thead th {\n",
       "        text-align: right;\n",
       "    }\n",
       "</style>\n",
       "<table border=\"1\" class=\"dataframe\">\n",
       "  <thead>\n",
       "    <tr style=\"text-align: right;\">\n",
       "      <th></th>\n",
       "      <th>Unnamed: 0</th>\n",
       "      <th>region</th>\n",
       "      <th>state</th>\n",
       "      <th>individuals</th>\n",
       "      <th>family_members</th>\n",
       "      <th>state_pop</th>\n",
       "    </tr>\n",
       "  </thead>\n",
       "  <tbody>\n",
       "    <tr>\n",
       "      <th>0</th>\n",
       "      <td>0</td>\n",
       "      <td>East South Central</td>\n",
       "      <td>Alabama</td>\n",
       "      <td>2570.0</td>\n",
       "      <td>864.0</td>\n",
       "      <td>4887681</td>\n",
       "    </tr>\n",
       "    <tr>\n",
       "      <th>1</th>\n",
       "      <td>1</td>\n",
       "      <td>Pacific</td>\n",
       "      <td>Alaska</td>\n",
       "      <td>1434.0</td>\n",
       "      <td>582.0</td>\n",
       "      <td>735139</td>\n",
       "    </tr>\n",
       "    <tr>\n",
       "      <th>2</th>\n",
       "      <td>2</td>\n",
       "      <td>Mountain</td>\n",
       "      <td>Arizona</td>\n",
       "      <td>7259.0</td>\n",
       "      <td>2606.0</td>\n",
       "      <td>7158024</td>\n",
       "    </tr>\n",
       "    <tr>\n",
       "      <th>3</th>\n",
       "      <td>3</td>\n",
       "      <td>West South Central</td>\n",
       "      <td>Arkansas</td>\n",
       "      <td>2280.0</td>\n",
       "      <td>432.0</td>\n",
       "      <td>3009733</td>\n",
       "    </tr>\n",
       "    <tr>\n",
       "      <th>4</th>\n",
       "      <td>4</td>\n",
       "      <td>Pacific</td>\n",
       "      <td>California</td>\n",
       "      <td>109008.0</td>\n",
       "      <td>20964.0</td>\n",
       "      <td>39461588</td>\n",
       "    </tr>\n",
       "  </tbody>\n",
       "</table>\n",
       "</div>"
      ],
      "text/plain": [
       "   Unnamed: 0              region       state  individuals  family_members  \\\n",
       "0           0  East South Central     Alabama       2570.0           864.0   \n",
       "1           1             Pacific      Alaska       1434.0           582.0   \n",
       "2           2            Mountain     Arizona       7259.0          2606.0   \n",
       "3           3  West South Central    Arkansas       2280.0           432.0   \n",
       "4           4             Pacific  California     109008.0         20964.0   \n",
       "\n",
       "   state_pop  \n",
       "0    4887681  \n",
       "1     735139  \n",
       "2    7158024  \n",
       "3    3009733  \n",
       "4   39461588  "
      ]
     },
     "execution_count": 3,
     "metadata": {},
     "output_type": "execute_result"
    }
   ],
   "source": [
    "df.head()"
   ]
  },
  {
   "cell_type": "code",
   "execution_count": 4,
   "id": "004a6915",
   "metadata": {},
   "outputs": [
    {
     "name": "stdout",
     "output_type": "stream",
     "text": [
      "(51, 6)\n"
     ]
    }
   ],
   "source": [
    "print(df.shape)"
   ]
  },
  {
   "cell_type": "code",
   "execution_count": 5,
   "id": "a492ced9",
   "metadata": {},
   "outputs": [
    {
     "name": "stdout",
     "output_type": "stream",
     "text": [
      "<class 'pandas.core.frame.DataFrame'>\n",
      "RangeIndex: 51 entries, 0 to 50\n",
      "Data columns (total 6 columns):\n",
      " #   Column          Non-Null Count  Dtype  \n",
      "---  ------          --------------  -----  \n",
      " 0   Unnamed: 0      51 non-null     int64  \n",
      " 1   region          51 non-null     object \n",
      " 2   state           51 non-null     object \n",
      " 3   individuals     51 non-null     float64\n",
      " 4   family_members  51 non-null     float64\n",
      " 5   state_pop       51 non-null     int64  \n",
      "dtypes: float64(2), int64(2), object(2)\n",
      "memory usage: 2.5+ KB\n"
     ]
    }
   ],
   "source": [
    "df.info()"
   ]
  },
  {
   "cell_type": "code",
   "execution_count": 6,
   "id": "b1f4ccd0",
   "metadata": {},
   "outputs": [
    {
     "data": {
      "text/html": [
       "<div>\n",
       "<style scoped>\n",
       "    .dataframe tbody tr th:only-of-type {\n",
       "        vertical-align: middle;\n",
       "    }\n",
       "\n",
       "    .dataframe tbody tr th {\n",
       "        vertical-align: top;\n",
       "    }\n",
       "\n",
       "    .dataframe thead th {\n",
       "        text-align: right;\n",
       "    }\n",
       "</style>\n",
       "<table border=\"1\" class=\"dataframe\">\n",
       "  <thead>\n",
       "    <tr style=\"text-align: right;\">\n",
       "      <th></th>\n",
       "      <th>Unnamed: 0</th>\n",
       "      <th>individuals</th>\n",
       "      <th>family_members</th>\n",
       "      <th>state_pop</th>\n",
       "    </tr>\n",
       "  </thead>\n",
       "  <tbody>\n",
       "    <tr>\n",
       "      <th>count</th>\n",
       "      <td>51.000000</td>\n",
       "      <td>51.000000</td>\n",
       "      <td>51.000000</td>\n",
       "      <td>5.100000e+01</td>\n",
       "    </tr>\n",
       "    <tr>\n",
       "      <th>mean</th>\n",
       "      <td>25.000000</td>\n",
       "      <td>7225.784314</td>\n",
       "      <td>3504.882353</td>\n",
       "      <td>6.405637e+06</td>\n",
       "    </tr>\n",
       "    <tr>\n",
       "      <th>std</th>\n",
       "      <td>14.866069</td>\n",
       "      <td>15991.025083</td>\n",
       "      <td>7805.411811</td>\n",
       "      <td>7.327258e+06</td>\n",
       "    </tr>\n",
       "    <tr>\n",
       "      <th>min</th>\n",
       "      <td>0.000000</td>\n",
       "      <td>434.000000</td>\n",
       "      <td>75.000000</td>\n",
       "      <td>5.776010e+05</td>\n",
       "    </tr>\n",
       "    <tr>\n",
       "      <th>25%</th>\n",
       "      <td>12.500000</td>\n",
       "      <td>1446.500000</td>\n",
       "      <td>592.000000</td>\n",
       "      <td>1.777414e+06</td>\n",
       "    </tr>\n",
       "    <tr>\n",
       "      <th>50%</th>\n",
       "      <td>25.000000</td>\n",
       "      <td>3082.000000</td>\n",
       "      <td>1482.000000</td>\n",
       "      <td>4.461153e+06</td>\n",
       "    </tr>\n",
       "    <tr>\n",
       "      <th>75%</th>\n",
       "      <td>37.500000</td>\n",
       "      <td>6781.500000</td>\n",
       "      <td>3196.000000</td>\n",
       "      <td>7.340946e+06</td>\n",
       "    </tr>\n",
       "    <tr>\n",
       "      <th>max</th>\n",
       "      <td>50.000000</td>\n",
       "      <td>109008.000000</td>\n",
       "      <td>52070.000000</td>\n",
       "      <td>3.946159e+07</td>\n",
       "    </tr>\n",
       "  </tbody>\n",
       "</table>\n",
       "</div>"
      ],
      "text/plain": [
       "       Unnamed: 0    individuals  family_members     state_pop\n",
       "count   51.000000      51.000000       51.000000  5.100000e+01\n",
       "mean    25.000000    7225.784314     3504.882353  6.405637e+06\n",
       "std     14.866069   15991.025083     7805.411811  7.327258e+06\n",
       "min      0.000000     434.000000       75.000000  5.776010e+05\n",
       "25%     12.500000    1446.500000      592.000000  1.777414e+06\n",
       "50%     25.000000    3082.000000     1482.000000  4.461153e+06\n",
       "75%     37.500000    6781.500000     3196.000000  7.340946e+06\n",
       "max     50.000000  109008.000000    52070.000000  3.946159e+07"
      ]
     },
     "execution_count": 6,
     "metadata": {},
     "output_type": "execute_result"
    }
   ],
   "source": [
    "df.describe()"
   ]
  },
  {
   "cell_type": "code",
   "execution_count": 7,
   "id": "1545e13e",
   "metadata": {},
   "outputs": [
    {
     "data": {
      "text/plain": [
       "array([[0, 'East South Central', 'Alabama', 2570.0, 864.0, 4887681],\n",
       "       [1, 'Pacific', 'Alaska', 1434.0, 582.0, 735139],\n",
       "       [2, 'Mountain', 'Arizona', 7259.0, 2606.0, 7158024],\n",
       "       [3, 'West South Central', 'Arkansas', 2280.0, 432.0, 3009733],\n",
       "       [4, 'Pacific', 'California', 109008.0, 20964.0, 39461588],\n",
       "       [5, 'Mountain', 'Colorado', 7607.0, 3250.0, 5691287],\n",
       "       [6, 'New England', 'Connecticut', 2280.0, 1696.0, 3571520],\n",
       "       [7, 'South Atlantic', 'Delaware', 708.0, 374.0, 965479],\n",
       "       [8, 'South Atlantic', 'District of Columbia', 3770.0, 3134.0,\n",
       "        701547],\n",
       "       [9, 'South Atlantic', 'Florida', 21443.0, 9587.0, 21244317],\n",
       "       [10, 'South Atlantic', 'Georgia', 6943.0, 2556.0, 10511131],\n",
       "       [11, 'Pacific', 'Hawaii', 4131.0, 2399.0, 1420593],\n",
       "       [12, 'Mountain', 'Idaho', 1297.0, 715.0, 1750536],\n",
       "       [13, 'East North Central', 'Illinois', 6752.0, 3891.0, 12723071],\n",
       "       [14, 'East North Central', 'Indiana', 3776.0, 1482.0, 6695497],\n",
       "       [15, 'West North Central', 'Iowa', 1711.0, 1038.0, 3148618],\n",
       "       [16, 'West North Central', 'Kansas', 1443.0, 773.0, 2911359],\n",
       "       [17, 'East South Central', 'Kentucky', 2735.0, 953.0, 4461153],\n",
       "       [18, 'West South Central', 'Louisiana', 2540.0, 519.0, 4659690],\n",
       "       [19, 'New England', 'Maine', 1450.0, 1066.0, 1339057],\n",
       "       [20, 'South Atlantic', 'Maryland', 4914.0, 2230.0, 6035802],\n",
       "       [21, 'New England', 'Massachusetts', 6811.0, 13257.0, 6882635],\n",
       "       [22, 'East North Central', 'Michigan', 5209.0, 3142.0, 9984072],\n",
       "       [23, 'West North Central', 'Minnesota', 3993.0, 3250.0, 5606249],\n",
       "       [24, 'East South Central', 'Mississippi', 1024.0, 328.0, 2981020],\n",
       "       [25, 'West North Central', 'Missouri', 3776.0, 2107.0, 6121623],\n",
       "       [26, 'Mountain', 'Montana', 983.0, 422.0, 1060665],\n",
       "       [27, 'West North Central', 'Nebraska', 1745.0, 676.0, 1925614],\n",
       "       [28, 'Mountain', 'Nevada', 7058.0, 486.0, 3027341],\n",
       "       [29, 'New England', 'New Hampshire', 835.0, 615.0, 1353465],\n",
       "       [30, 'Mid-Atlantic', 'New Jersey', 6048.0, 3350.0, 8886025],\n",
       "       [31, 'Mountain', 'New Mexico', 1949.0, 602.0, 2092741],\n",
       "       [32, 'Mid-Atlantic', 'New York', 39827.0, 52070.0, 19530351],\n",
       "       [33, 'South Atlantic', 'North Carolina', 6451.0, 2817.0, 10381615],\n",
       "       [34, 'West North Central', 'North Dakota', 467.0, 75.0, 758080],\n",
       "       [35, 'East North Central', 'Ohio', 6929.0, 3320.0, 11676341],\n",
       "       [36, 'West South Central', 'Oklahoma', 2823.0, 1048.0, 3940235],\n",
       "       [37, 'Pacific', 'Oregon', 11139.0, 3337.0, 4181886],\n",
       "       [38, 'Mid-Atlantic', 'Pennsylvania', 8163.0, 5349.0, 12800922],\n",
       "       [39, 'New England', 'Rhode Island', 747.0, 354.0, 1058287],\n",
       "       [40, 'South Atlantic', 'South Carolina', 3082.0, 851.0, 5084156],\n",
       "       [41, 'West North Central', 'South Dakota', 836.0, 323.0, 878698],\n",
       "       [42, 'East South Central', 'Tennessee', 6139.0, 1744.0, 6771631],\n",
       "       [43, 'West South Central', 'Texas', 19199.0, 6111.0, 28628666],\n",
       "       [44, 'Mountain', 'Utah', 1904.0, 972.0, 3153550],\n",
       "       [45, 'New England', 'Vermont', 780.0, 511.0, 624358],\n",
       "       [46, 'South Atlantic', 'Virginia', 3928.0, 2047.0, 8501286],\n",
       "       [47, 'Pacific', 'Washington', 16424.0, 5880.0, 7523869],\n",
       "       [48, 'South Atlantic', 'West Virginia', 1021.0, 222.0, 1804291],\n",
       "       [49, 'East North Central', 'Wisconsin', 2740.0, 2167.0, 5807406],\n",
       "       [50, 'Mountain', 'Wyoming', 434.0, 205.0, 577601]], dtype=object)"
      ]
     },
     "execution_count": 7,
     "metadata": {},
     "output_type": "execute_result"
    }
   ],
   "source": [
    "df.values"
   ]
  },
  {
   "cell_type": "code",
   "execution_count": 8,
   "id": "15dd0cf5",
   "metadata": {},
   "outputs": [
    {
     "data": {
      "text/plain": [
       "Index(['Unnamed: 0', 'region', 'state', 'individuals', 'family_members',\n",
       "       'state_pop'],\n",
       "      dtype='object')"
      ]
     },
     "execution_count": 8,
     "metadata": {},
     "output_type": "execute_result"
    }
   ],
   "source": [
    "df.columns"
   ]
  },
  {
   "cell_type": "code",
   "execution_count": 9,
   "id": "9f6bcc3a",
   "metadata": {},
   "outputs": [
    {
     "data": {
      "text/plain": [
       "RangeIndex(start=0, stop=51, step=1)"
      ]
     },
     "execution_count": 9,
     "metadata": {},
     "output_type": "execute_result"
    }
   ],
   "source": [
    "df.index"
   ]
  },
  {
   "cell_type": "code",
   "execution_count": 21,
   "id": "6bb36f83",
   "metadata": {},
   "outputs": [
    {
     "data": {
      "text/html": [
       "<div>\n",
       "<style scoped>\n",
       "    .dataframe tbody tr th:only-of-type {\n",
       "        vertical-align: middle;\n",
       "    }\n",
       "\n",
       "    .dataframe tbody tr th {\n",
       "        vertical-align: top;\n",
       "    }\n",
       "\n",
       "    .dataframe thead th {\n",
       "        text-align: right;\n",
       "    }\n",
       "</style>\n",
       "<table border=\"1\" class=\"dataframe\">\n",
       "  <thead>\n",
       "    <tr style=\"text-align: right;\">\n",
       "      <th></th>\n",
       "      <th>Unnamed: 0</th>\n",
       "      <th>region</th>\n",
       "      <th>state</th>\n",
       "      <th>individuals</th>\n",
       "      <th>family_members</th>\n",
       "      <th>state_pop</th>\n",
       "    </tr>\n",
       "  </thead>\n",
       "  <tbody>\n",
       "    <tr>\n",
       "      <th>1</th>\n",
       "      <td>1</td>\n",
       "      <td>Pacific</td>\n",
       "      <td>Alaska</td>\n",
       "      <td>1434.0</td>\n",
       "      <td>582.0</td>\n",
       "      <td>735139</td>\n",
       "    </tr>\n",
       "    <tr>\n",
       "      <th>4</th>\n",
       "      <td>4</td>\n",
       "      <td>Pacific</td>\n",
       "      <td>California</td>\n",
       "      <td>109008.0</td>\n",
       "      <td>20964.0</td>\n",
       "      <td>39461588</td>\n",
       "    </tr>\n",
       "    <tr>\n",
       "      <th>11</th>\n",
       "      <td>11</td>\n",
       "      <td>Pacific</td>\n",
       "      <td>Hawaii</td>\n",
       "      <td>4131.0</td>\n",
       "      <td>2399.0</td>\n",
       "      <td>1420593</td>\n",
       "    </tr>\n",
       "    <tr>\n",
       "      <th>37</th>\n",
       "      <td>37</td>\n",
       "      <td>Pacific</td>\n",
       "      <td>Oregon</td>\n",
       "      <td>11139.0</td>\n",
       "      <td>3337.0</td>\n",
       "      <td>4181886</td>\n",
       "    </tr>\n",
       "    <tr>\n",
       "      <th>47</th>\n",
       "      <td>47</td>\n",
       "      <td>Pacific</td>\n",
       "      <td>Washington</td>\n",
       "      <td>16424.0</td>\n",
       "      <td>5880.0</td>\n",
       "      <td>7523869</td>\n",
       "    </tr>\n",
       "  </tbody>\n",
       "</table>\n",
       "</div>"
      ],
      "text/plain": [
       "    Unnamed: 0   region       state  individuals  family_members  state_pop\n",
       "1            1  Pacific      Alaska       1434.0           582.0     735139\n",
       "4            4  Pacific  California     109008.0         20964.0   39461588\n",
       "11          11  Pacific      Hawaii       4131.0          2399.0    1420593\n",
       "37          37  Pacific      Oregon      11139.0          3337.0    4181886\n",
       "47          47  Pacific  Washington      16424.0          5880.0    7523869"
      ]
     },
     "execution_count": 21,
     "metadata": {},
     "output_type": "execute_result"
    }
   ],
   "source": [
    "df.sort_values(['individuals','state_pop'], ascending=[True,False])\n",
    "#df['region']\n",
    "#df[['region', 'state_pop']]\n",
    "df[df['region'] == 'Pacific']"
   ]
  },
  {
   "cell_type": "code",
   "execution_count": null,
   "id": "15542d98",
   "metadata": {},
   "outputs": [],
   "source": []
  },
  {
   "cell_type": "code",
   "execution_count": null,
   "id": "f9261bda",
   "metadata": {},
   "outputs": [],
   "source": []
  }
 ],
 "metadata": {
  "kernelspec": {
   "display_name": "Python 3",
   "language": "python",
   "name": "python3"
  },
  "language_info": {
   "codemirror_mode": {
    "name": "ipython",
    "version": 3
   },
   "file_extension": ".py",
   "mimetype": "text/x-python",
   "name": "python",
   "nbconvert_exporter": "python",
   "pygments_lexer": "ipython3",
   "version": "3.8.8"
  }
 },
 "nbformat": 4,
 "nbformat_minor": 5
}
