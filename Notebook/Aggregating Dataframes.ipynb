{
 "cells": [
  {
   "cell_type": "code",
   "execution_count": 1,
   "id": "0fd3a7cd",
   "metadata": {},
   "outputs": [],
   "source": [
    "import pandas as pd\n",
    "import numpy as np"
   ]
  },
  {
   "cell_type": "code",
   "execution_count": 2,
   "id": "57f1ce58",
   "metadata": {},
   "outputs": [],
   "source": [
    "df = pd.read_csv(\"../data/sales_subset.csv\")"
   ]
  },
  {
   "cell_type": "code",
   "execution_count": 3,
   "id": "c3dcb9fa",
   "metadata": {},
   "outputs": [
    {
     "data": {
      "text/html": [
       "<div>\n",
       "<style scoped>\n",
       "    .dataframe tbody tr th:only-of-type {\n",
       "        vertical-align: middle;\n",
       "    }\n",
       "\n",
       "    .dataframe tbody tr th {\n",
       "        vertical-align: top;\n",
       "    }\n",
       "\n",
       "    .dataframe thead th {\n",
       "        text-align: right;\n",
       "    }\n",
       "</style>\n",
       "<table border=\"1\" class=\"dataframe\">\n",
       "  <thead>\n",
       "    <tr style=\"text-align: right;\">\n",
       "      <th></th>\n",
       "      <th>Unnamed: 0</th>\n",
       "      <th>store</th>\n",
       "      <th>type</th>\n",
       "      <th>department</th>\n",
       "      <th>date</th>\n",
       "      <th>weekly_sales</th>\n",
       "      <th>is_holiday</th>\n",
       "      <th>temperature_c</th>\n",
       "      <th>fuel_price_usd_per_l</th>\n",
       "      <th>unemployment</th>\n",
       "    </tr>\n",
       "  </thead>\n",
       "  <tbody>\n",
       "    <tr>\n",
       "      <th>0</th>\n",
       "      <td>0</td>\n",
       "      <td>1</td>\n",
       "      <td>A</td>\n",
       "      <td>1</td>\n",
       "      <td>2010-02-05</td>\n",
       "      <td>24924.50</td>\n",
       "      <td>False</td>\n",
       "      <td>5.727778</td>\n",
       "      <td>0.679451</td>\n",
       "      <td>8.106</td>\n",
       "    </tr>\n",
       "    <tr>\n",
       "      <th>1</th>\n",
       "      <td>1</td>\n",
       "      <td>1</td>\n",
       "      <td>A</td>\n",
       "      <td>1</td>\n",
       "      <td>2010-03-05</td>\n",
       "      <td>21827.90</td>\n",
       "      <td>False</td>\n",
       "      <td>8.055556</td>\n",
       "      <td>0.693452</td>\n",
       "      <td>8.106</td>\n",
       "    </tr>\n",
       "    <tr>\n",
       "      <th>2</th>\n",
       "      <td>2</td>\n",
       "      <td>1</td>\n",
       "      <td>A</td>\n",
       "      <td>1</td>\n",
       "      <td>2010-04-02</td>\n",
       "      <td>57258.43</td>\n",
       "      <td>False</td>\n",
       "      <td>16.816667</td>\n",
       "      <td>0.718284</td>\n",
       "      <td>7.808</td>\n",
       "    </tr>\n",
       "    <tr>\n",
       "      <th>3</th>\n",
       "      <td>3</td>\n",
       "      <td>1</td>\n",
       "      <td>A</td>\n",
       "      <td>1</td>\n",
       "      <td>2010-05-07</td>\n",
       "      <td>17413.94</td>\n",
       "      <td>False</td>\n",
       "      <td>22.527778</td>\n",
       "      <td>0.748928</td>\n",
       "      <td>7.808</td>\n",
       "    </tr>\n",
       "    <tr>\n",
       "      <th>4</th>\n",
       "      <td>4</td>\n",
       "      <td>1</td>\n",
       "      <td>A</td>\n",
       "      <td>1</td>\n",
       "      <td>2010-06-04</td>\n",
       "      <td>17558.09</td>\n",
       "      <td>False</td>\n",
       "      <td>27.050000</td>\n",
       "      <td>0.714586</td>\n",
       "      <td>7.808</td>\n",
       "    </tr>\n",
       "  </tbody>\n",
       "</table>\n",
       "</div>"
      ],
      "text/plain": [
       "   Unnamed: 0  store type  department        date  weekly_sales  is_holiday  \\\n",
       "0           0      1    A           1  2010-02-05      24924.50       False   \n",
       "1           1      1    A           1  2010-03-05      21827.90       False   \n",
       "2           2      1    A           1  2010-04-02      57258.43       False   \n",
       "3           3      1    A           1  2010-05-07      17413.94       False   \n",
       "4           4      1    A           1  2010-06-04      17558.09       False   \n",
       "\n",
       "   temperature_c  fuel_price_usd_per_l  unemployment  \n",
       "0       5.727778              0.679451         8.106  \n",
       "1       8.055556              0.693452         8.106  \n",
       "2      16.816667              0.718284         7.808  \n",
       "3      22.527778              0.748928         7.808  \n",
       "4      27.050000              0.714586         7.808  "
      ]
     },
     "execution_count": 3,
     "metadata": {},
     "output_type": "execute_result"
    }
   ],
   "source": [
    "df.head()"
   ]
  },
  {
   "cell_type": "code",
   "execution_count": 4,
   "id": "0c483c87",
   "metadata": {
    "scrolled": true
   },
   "outputs": [
    {
     "name": "stdout",
     "output_type": "stream",
     "text": [
      "<class 'pandas.core.frame.DataFrame'>\n",
      "RangeIndex: 10774 entries, 0 to 10773\n",
      "Data columns (total 10 columns):\n",
      " #   Column                Non-Null Count  Dtype  \n",
      "---  ------                --------------  -----  \n",
      " 0   Unnamed: 0            10774 non-null  int64  \n",
      " 1   store                 10774 non-null  int64  \n",
      " 2   type                  10774 non-null  object \n",
      " 3   department            10774 non-null  int64  \n",
      " 4   date                  10774 non-null  object \n",
      " 5   weekly_sales          10774 non-null  float64\n",
      " 6   is_holiday            10774 non-null  bool   \n",
      " 7   temperature_c         10774 non-null  float64\n",
      " 8   fuel_price_usd_per_l  10774 non-null  float64\n",
      " 9   unemployment          10774 non-null  float64\n",
      "dtypes: bool(1), float64(4), int64(3), object(2)\n",
      "memory usage: 768.2+ KB\n"
     ]
    },
    {
     "data": {
      "text/plain": [
       "12049.064999999999"
      ]
     },
     "execution_count": 4,
     "metadata": {},
     "output_type": "execute_result"
    }
   ],
   "source": [
    "df.info()\n",
    "df['weekly_sales'].mean()\n",
    "df['weekly_sales'].median()"
   ]
  },
  {
   "cell_type": "code",
   "execution_count": 5,
   "id": "3929cb2c",
   "metadata": {},
   "outputs": [
    {
     "data": {
      "text/plain": [
       "'2010-02-05'"
      ]
     },
     "execution_count": 5,
     "metadata": {},
     "output_type": "execute_result"
    }
   ],
   "source": [
    "df['date'].max()\n",
    "df['date'].min()"
   ]
  },
  {
   "cell_type": "code",
   "execution_count": 6,
   "id": "6a2a2ba8",
   "metadata": {},
   "outputs": [
    {
     "name": "stdout",
     "output_type": "stream",
     "text": [
      "temperature_c           16.583333\n",
      "fuel_price_usd_per_l     0.073176\n",
      "unemployment             0.565000\n",
      "dtype: float64\n"
     ]
    }
   ],
   "source": [
    "#Using the function below, calculate the IQR when your data contains outliers\n",
    "def iqr(column):\n",
    "    return column.quantile(0.75) - column.quantile(0.25)\n",
    "\n",
    "print(df[['temperature_c','fuel_price_usd_per_l', 'unemployment']].agg(iqr))"
   ]
  },
  {
   "cell_type": "code",
   "execution_count": 7,
   "id": "024a43e9",
   "metadata": {},
   "outputs": [
    {
     "name": "stdout",
     "output_type": "stream",
     "text": [
      "        temperature_c  fuel_price_usd_per_l  unemployment\n",
      "iqr         16.583333              0.073176         0.565\n",
      "median      16.966667              0.743381         8.099\n"
     ]
    }
   ],
   "source": [
    "print(df[['temperature_c','fuel_price_usd_per_l','unemployment']].agg([iqr, np.median]))"
   ]
  },
  {
   "cell_type": "code",
   "execution_count": 8,
   "id": "c4aff33b",
   "metadata": {},
   "outputs": [
    {
     "name": "stdout",
     "output_type": "stream",
     "text": [
      "             date  weekly_sales  cum_weekly_sales  cum_max_sales\n",
      "0      2010-02-05      24924.50      2.492450e+04       24924.50\n",
      "6437   2010-02-05      38597.52      6.352202e+04       38597.52\n",
      "1249   2010-02-05       3840.21      6.736223e+04       38597.52\n",
      "6449   2010-02-05      17590.59      8.495282e+04       38597.52\n",
      "6461   2010-02-05       4929.87      8.988269e+04       38597.52\n",
      "...           ...           ...               ...            ...\n",
      "3592   2012-10-05        440.00      2.568932e+08      293966.05\n",
      "8108   2012-10-05        660.00      2.568938e+08      293966.05\n",
      "10773  2012-10-05        915.00      2.568947e+08      293966.05\n",
      "6257   2012-10-12          3.00      2.568947e+08      293966.05\n",
      "3384   2012-10-26        -21.63      2.568947e+08      293966.05\n",
      "\n",
      "[10774 rows x 4 columns]\n"
     ]
    }
   ],
   "source": [
    "#Cumulative statistics\n",
    "df = df.sort_values('date')\n",
    "#print(df)\n",
    "df['cum_weekly_sales'] = df['weekly_sales'].cumsum()\n",
    "#print(df)\n",
    "df['cum_max_sales'] = df['weekly_sales'].cummax()\n",
    "#print(df)\n",
    "print(df[['date','weekly_sales','cum_weekly_sales','cum_max_sales']])"
   ]
  },
  {
   "cell_type": "code",
   "execution_count": 9,
   "id": "3b5e88bc",
   "metadata": {},
   "outputs": [
    {
     "name": "stdout",
     "output_type": "stream",
     "text": [
      "      Unnamed: 0  store type  department        date  weekly_sales  \\\n",
      "5198        5198     13    A          78  2010-02-12         12.00   \n",
      "5606        5606     14    A          18  2010-09-10          1.94   \n",
      "6810        6810     19    A          47  2010-12-31       -449.00   \n",
      "6820        6820     19    A          48  2011-09-09        197.00   \n",
      "4295        4295     10    B          77  2011-11-25       1590.00   \n",
      "6815        6815     19    A          47  2012-02-10         15.00   \n",
      "8072        8072     20    A          96  2012-09-07         -8.97   \n",
      "\n",
      "      is_holiday  temperature_c  fuel_price_usd_per_l  unemployment  \\\n",
      "5198        True       0.644444              0.705604         8.316   \n",
      "5606        True      21.594444              0.713001         8.743   \n",
      "6810        True      -1.861111              0.881278         8.067   \n",
      "6820        True      20.155556              1.038197         7.806   \n",
      "4295        True      15.933333              0.993287         7.874   \n",
      "6815        True       0.338889              1.010723         7.943   \n",
      "8072        True      24.644444              1.033177         7.280   \n",
      "\n",
      "      cum_weekly_sales  cum_max_sales  \n",
      "5198      2.283538e+07      293966.05  \n",
      "5606      1.754083e+08      293966.05  \n",
      "6810      2.377379e+08      293966.05  \n",
      "6820      2.568424e+08      293966.05  \n",
      "4295      2.568458e+08      293966.05  \n",
      "6815      2.568841e+08      293966.05  \n",
      "8072      2.568867e+08      293966.05  \n"
     ]
    }
   ],
   "source": [
    "#Summarize Categorical data\n",
    "#df.drop_duplicates(subset=['store','department'])\n",
    "store_types = df.drop_duplicates(subset=['store','type'])\n",
    "store_depts= df.drop_duplicates(subset=['store','department'])\n",
    "holiday_dates = df[df['is_holiday']].drop_duplicates('date')\n",
    "print(holiday_dates)"
   ]
  },
  {
   "cell_type": "code",
   "execution_count": 10,
   "id": "f8450bbe",
   "metadata": {},
   "outputs": [
    {
     "data": {
      "text/html": [
       "<div>\n",
       "<style scoped>\n",
       "    .dataframe tbody tr th:only-of-type {\n",
       "        vertical-align: middle;\n",
       "    }\n",
       "\n",
       "    .dataframe tbody tr th {\n",
       "        vertical-align: top;\n",
       "    }\n",
       "\n",
       "    .dataframe thead th {\n",
       "        text-align: right;\n",
       "    }\n",
       "</style>\n",
       "<table border=\"1\" class=\"dataframe\">\n",
       "  <thead>\n",
       "    <tr style=\"text-align: right;\">\n",
       "      <th></th>\n",
       "      <th></th>\n",
       "      <th>weekly_sales</th>\n",
       "      <th>unemployment</th>\n",
       "    </tr>\n",
       "    <tr>\n",
       "      <th>store</th>\n",
       "      <th>department</th>\n",
       "      <th></th>\n",
       "      <th></th>\n",
       "    </tr>\n",
       "  </thead>\n",
       "  <tbody>\n",
       "    <tr>\n",
       "      <th rowspan=\"5\" valign=\"top\">1</th>\n",
       "      <th>1</th>\n",
       "      <td>23491.755000</td>\n",
       "      <td>7.854417</td>\n",
       "    </tr>\n",
       "    <tr>\n",
       "      <th>2</th>\n",
       "      <td>47421.124167</td>\n",
       "      <td>7.854417</td>\n",
       "    </tr>\n",
       "    <tr>\n",
       "      <th>3</th>\n",
       "      <td>12872.590000</td>\n",
       "      <td>7.854417</td>\n",
       "    </tr>\n",
       "    <tr>\n",
       "      <th>4</th>\n",
       "      <td>38382.255833</td>\n",
       "      <td>7.854417</td>\n",
       "    </tr>\n",
       "    <tr>\n",
       "      <th>5</th>\n",
       "      <td>23761.120000</td>\n",
       "      <td>7.854417</td>\n",
       "    </tr>\n",
       "    <tr>\n",
       "      <th>...</th>\n",
       "      <th>...</th>\n",
       "      <td>...</td>\n",
       "      <td>...</td>\n",
       "    </tr>\n",
       "    <tr>\n",
       "      <th rowspan=\"5\" valign=\"top\">39</th>\n",
       "      <th>95</th>\n",
       "      <td>97174.169167</td>\n",
       "      <td>8.450250</td>\n",
       "    </tr>\n",
       "    <tr>\n",
       "      <th>96</th>\n",
       "      <td>24947.875833</td>\n",
       "      <td>8.450250</td>\n",
       "    </tr>\n",
       "    <tr>\n",
       "      <th>97</th>\n",
       "      <td>23002.670000</td>\n",
       "      <td>8.450250</td>\n",
       "    </tr>\n",
       "    <tr>\n",
       "      <th>98</th>\n",
       "      <td>9089.097500</td>\n",
       "      <td>8.450250</td>\n",
       "    </tr>\n",
       "    <tr>\n",
       "      <th>99</th>\n",
       "      <td>317.189091</td>\n",
       "      <td>7.670091</td>\n",
       "    </tr>\n",
       "  </tbody>\n",
       "</table>\n",
       "<p>929 rows × 2 columns</p>\n",
       "</div>"
      ],
      "text/plain": [
       "                  weekly_sales  unemployment\n",
       "store department                            \n",
       "1     1           23491.755000      7.854417\n",
       "      2           47421.124167      7.854417\n",
       "      3           12872.590000      7.854417\n",
       "      4           38382.255833      7.854417\n",
       "      5           23761.120000      7.854417\n",
       "...                        ...           ...\n",
       "39    95          97174.169167      8.450250\n",
       "      96          24947.875833      8.450250\n",
       "      97          23002.670000      8.450250\n",
       "      98           9089.097500      8.450250\n",
       "      99            317.189091      7.670091\n",
       "\n",
       "[929 rows x 2 columns]"
      ]
     },
     "execution_count": 10,
     "metadata": {},
     "output_type": "execute_result"
    }
   ],
   "source": [
    "df['store'].value_counts(sort=True)\n",
    "#normalize argument can turn the count into proportions of the total\n",
    "df['store'].value_counts(normalize=True)\n",
    "df.groupby('store')['weekly_sales'].mean()\n",
    "df.groupby('department')['weekly_sales'].agg([min,max,sum])\n",
    "df.groupby(['store','department'])['weekly_sales'].mean()\n",
    "df.groupby(['store','department'])[['weekly_sales','unemployment']].mean()"
   ]
  },
  {
   "cell_type": "code",
   "execution_count": 11,
   "id": "bd0f9c54",
   "metadata": {},
   "outputs": [
    {
     "name": "stdout",
     "output_type": "stream",
     "text": [
      "[0.9097747 0.0902253 0.       ]\n"
     ]
    }
   ],
   "source": [
    "#What percent of sales occured at each store type\n",
    "sales_all = df['weekly_sales'].sum()\n",
    "sales_A = df[df['type']== 'A']['weekly_sales'].sum()\n",
    "sales_B = df[df['type']== 'B']['weekly_sales'].sum()\n",
    "sales_C = df[df['type']== 'C']['weekly_sales'].sum()\n",
    "#Get proportion for each type\n",
    "sales_propn_by_type = [sales_A, sales_B, sales_C]/ sales_all\n",
    "print(sales_propn_by_type)"
   ]
  },
  {
   "cell_type": "code",
   "execution_count": 12,
   "id": "6d89809f",
   "metadata": {},
   "outputs": [
    {
     "name": "stdout",
     "output_type": "stream",
     "text": [
      "type  is_holiday\n",
      "A     False         2.336927e+08\n",
      "      True          2.360181e+04\n",
      "B     False         2.317678e+07\n",
      "      True          1.621410e+03\n",
      "Name: weekly_sales, dtype: float64\n"
     ]
    }
   ],
   "source": [
    "#calculations with .groupby()\n",
    "sales_by_type = df.groupby('type')['weekly_sales'].sum()\n",
    "sales_by_type_is_holiday = df.groupby(['type','is_holiday'])['weekly_sales'].sum()\n",
    "print(sales_by_type_is_holiday)"
   ]
  },
  {
   "cell_type": "code",
   "execution_count": 13,
   "id": "3d93eb1c",
   "metadata": {},
   "outputs": [
    {
     "name": "stdout",
     "output_type": "stream",
     "text": [
      "             Unnamed: 0                       store                   \\\n",
      "                    min   max    mean  median   min max  mean median   \n",
      "weekly_sales                                                           \n",
      "-1098.00           1420  1422  1421.0  1421.0     2   2   2.0    2.0   \n",
      "-798.00            4110  4115  4112.5  4112.5    10  10  10.0   10.0   \n",
      "-698.00             517  3217  1867.0  1867.0     1   6   3.5    3.5   \n",
      "-598.00            7718  7719  7718.5  7718.5    20  20  20.0   20.0   \n",
      "-498.00            5912  5912  5912.0  5912.0    14  14  14.0   14.0   \n",
      "...                 ...   ...     ...     ...   ...  ..   ...    ...   \n",
      " 213042.66         6237  6237  6237.0  6237.0    14  14  14.0   14.0   \n",
      " 214383.07         6202  6202  6202.0  6202.0    14  14  14.0   14.0   \n",
      " 218559.54         4281  4281  4281.0  4281.0    10  10  10.0   10.0   \n",
      " 232558.51         4271  4271  4271.0  4271.0    10  10  10.0   10.0   \n",
      " 293966.05         6201  6201  6201.0  6201.0    14  14  14.0   14.0   \n",
      "\n",
      "             department      ... unemployment         cum_weekly_sales  \\\n",
      "                    min max  ...         mean  median              min   \n",
      "weekly_sales                 ...                                         \n",
      "-1098.00             47  47  ...       8.1310  8.1310     1.330060e+08   \n",
      "-798.00              47  47  ...       9.3840  9.3840     3.206334e+07   \n",
      "-698.00              47  47  ...       7.5990  7.5990     4.369810e+07   \n",
      "-598.00              47  47  ...       7.5055  7.5055     1.754077e+08   \n",
      "-498.00              47  47  ...       8.7430  8.7430     1.754084e+08   \n",
      "...                 ...  ..  ...          ...     ...              ...   \n",
      " 213042.66           95  95  ...       8.9920  8.9920     4.722850e+05   \n",
      " 214383.07           92  92  ...       8.9920  8.9920     4.179016e+07   \n",
      " 218559.54           72  72  ...       9.0030  9.0030     2.302025e+08   \n",
      " 232558.51           72  72  ...       9.7650  9.7650     1.628756e+07   \n",
      " 293966.05           92  92  ...       8.9920  8.9920     2.635911e+06   \n",
      "\n",
      "                                                       cum_max_sales  \\\n",
      "                       max          mean        median           min   \n",
      "weekly_sales                                                           \n",
      "-1098.00      1.944160e+08  1.637110e+08  1.637110e+08     293966.05   \n",
      "-798.00       1.944171e+08  1.132402e+08  1.132402e+08     293966.05   \n",
      "-698.00       6.680964e+07  5.525387e+07  5.525387e+07     293966.05   \n",
      "-598.00       2.351709e+08  2.052893e+08  2.052893e+08     293966.05   \n",
      "-498.00       1.754084e+08  1.754084e+08  1.754084e+08     293966.05   \n",
      "...                    ...           ...           ...           ...   \n",
      " 213042.66    4.722850e+05  4.722850e+05  4.722850e+05     213042.66   \n",
      " 214383.07    4.179016e+07  4.179016e+07  4.179016e+07     293966.05   \n",
      " 218559.54    2.302025e+08  2.302025e+08  2.302025e+08     293966.05   \n",
      " 232558.51    1.628756e+07  1.628756e+07  1.628756e+07     293966.05   \n",
      " 293966.05    2.635911e+06  2.635911e+06  2.635911e+06     293966.05   \n",
      "\n",
      "                                               \n",
      "                    max       mean     median  \n",
      "weekly_sales                                   \n",
      "-1098.00      293966.05  293966.05  293966.05  \n",
      "-798.00       293966.05  293966.05  293966.05  \n",
      "-698.00       293966.05  293966.05  293966.05  \n",
      "-598.00       293966.05  293966.05  293966.05  \n",
      "-498.00       293966.05  293966.05  293966.05  \n",
      "...                 ...        ...        ...  \n",
      " 213042.66    213042.66  213042.66  213042.66  \n",
      " 214383.07    293966.05  293966.05  293966.05  \n",
      " 218559.54    293966.05  293966.05  293966.05  \n",
      " 232558.51    293966.05  293966.05  293966.05  \n",
      " 293966.05    293966.05  293966.05  293966.05  \n",
      "\n",
      "[10353 rows x 36 columns]\n"
     ]
    }
   ],
   "source": [
    "#multiple grouped summaries\n",
    "import numpy as np\n",
    "sales_stats = df.groupby('weekly_sales').agg([min, max, np.mean, np.median])\n",
    "print(sales_stats)"
   ]
  },
  {
   "cell_type": "code",
   "execution_count": 14,
   "id": "aaa825bb",
   "metadata": {},
   "outputs": [
    {
     "name": "stdout",
     "output_type": "stream",
     "text": [
      "     unemployment                         fuel_price_usd_per_l            \\\n",
      "              min    max      mean median                  min       max   \n",
      "type                                                                       \n",
      "A           3.879  8.992  7.972611  8.067             0.664129  1.107410   \n",
      "B           7.170  9.765  9.279323  9.199             0.760023  1.107674   \n",
      "\n",
      "                          \n",
      "          mean    median  \n",
      "type                      \n",
      "A     0.744619  0.735455  \n",
      "B     0.805858  0.803348  \n"
     ]
    }
   ],
   "source": [
    "unemp_fuel_stats = df.groupby('type')[['unemployment','fuel_price_usd_per_l']].agg([min, max,np.mean, np.median])\n",
    "print(unemp_fuel_stats)"
   ]
  },
  {
   "cell_type": "code",
   "execution_count": 15,
   "id": "53c394b4",
   "metadata": {},
   "outputs": [
    {
     "data": {
      "text/html": [
       "<div>\n",
       "<style scoped>\n",
       "    .dataframe tbody tr th:only-of-type {\n",
       "        vertical-align: middle;\n",
       "    }\n",
       "\n",
       "    .dataframe tbody tr th {\n",
       "        vertical-align: top;\n",
       "    }\n",
       "\n",
       "    .dataframe thead th {\n",
       "        text-align: right;\n",
       "    }\n",
       "</style>\n",
       "<table border=\"1\" class=\"dataframe\">\n",
       "  <thead>\n",
       "    <tr style=\"text-align: right;\">\n",
       "      <th>type</th>\n",
       "      <th>A</th>\n",
       "      <th>B</th>\n",
       "      <th>All</th>\n",
       "    </tr>\n",
       "    <tr>\n",
       "      <th>store</th>\n",
       "      <th></th>\n",
       "      <th></th>\n",
       "      <th></th>\n",
       "    </tr>\n",
       "  </thead>\n",
       "  <tbody>\n",
       "    <tr>\n",
       "      <th>1</th>\n",
       "      <td>7.849257</td>\n",
       "      <td>0.000000</td>\n",
       "      <td>7.849257</td>\n",
       "    </tr>\n",
       "    <tr>\n",
       "      <th>2</th>\n",
       "      <td>8.156532</td>\n",
       "      <td>0.000000</td>\n",
       "      <td>8.156532</td>\n",
       "    </tr>\n",
       "    <tr>\n",
       "      <th>4</th>\n",
       "      <td>7.535630</td>\n",
       "      <td>0.000000</td>\n",
       "      <td>7.535630</td>\n",
       "    </tr>\n",
       "    <tr>\n",
       "      <th>6</th>\n",
       "      <td>7.034975</td>\n",
       "      <td>0.000000</td>\n",
       "      <td>7.034975</td>\n",
       "    </tr>\n",
       "    <tr>\n",
       "      <th>10</th>\n",
       "      <td>0.000000</td>\n",
       "      <td>9.279323</td>\n",
       "      <td>9.279323</td>\n",
       "    </tr>\n",
       "    <tr>\n",
       "      <th>13</th>\n",
       "      <td>7.941028</td>\n",
       "      <td>0.000000</td>\n",
       "      <td>7.941028</td>\n",
       "    </tr>\n",
       "    <tr>\n",
       "      <th>14</th>\n",
       "      <td>8.795390</td>\n",
       "      <td>0.000000</td>\n",
       "      <td>8.795390</td>\n",
       "    </tr>\n",
       "    <tr>\n",
       "      <th>19</th>\n",
       "      <td>8.118392</td>\n",
       "      <td>0.000000</td>\n",
       "      <td>8.118392</td>\n",
       "    </tr>\n",
       "    <tr>\n",
       "      <th>20</th>\n",
       "      <td>7.673268</td>\n",
       "      <td>0.000000</td>\n",
       "      <td>7.673268</td>\n",
       "    </tr>\n",
       "    <tr>\n",
       "      <th>27</th>\n",
       "      <td>8.037213</td>\n",
       "      <td>0.000000</td>\n",
       "      <td>8.037213</td>\n",
       "    </tr>\n",
       "    <tr>\n",
       "      <th>31</th>\n",
       "      <td>8.157491</td>\n",
       "      <td>0.000000</td>\n",
       "      <td>8.157491</td>\n",
       "    </tr>\n",
       "    <tr>\n",
       "      <th>39</th>\n",
       "      <td>8.425687</td>\n",
       "      <td>0.000000</td>\n",
       "      <td>8.425687</td>\n",
       "    </tr>\n",
       "    <tr>\n",
       "      <th>All</th>\n",
       "      <td>7.972611</td>\n",
       "      <td>9.279323</td>\n",
       "      <td>8.082009</td>\n",
       "    </tr>\n",
       "  </tbody>\n",
       "</table>\n",
       "</div>"
      ],
      "text/plain": [
       "type          A         B       All\n",
       "store                              \n",
       "1      7.849257  0.000000  7.849257\n",
       "2      8.156532  0.000000  8.156532\n",
       "4      7.535630  0.000000  7.535630\n",
       "6      7.034975  0.000000  7.034975\n",
       "10     0.000000  9.279323  9.279323\n",
       "13     7.941028  0.000000  7.941028\n",
       "14     8.795390  0.000000  8.795390\n",
       "19     8.118392  0.000000  8.118392\n",
       "20     7.673268  0.000000  7.673268\n",
       "27     8.037213  0.000000  8.037213\n",
       "31     8.157491  0.000000  8.157491\n",
       "39     8.425687  0.000000  8.425687\n",
       "All    7.972611  9.279323  8.082009"
      ]
     },
     "execution_count": 15,
     "metadata": {},
     "output_type": "execute_result"
    }
   ],
   "source": [
    "#pivot tables in pandas, values = column to summarize and index = groupby; pivot_table always takes the mean value for each \n",
    "#-- group by default\n",
    "df.pivot_table(values='weekly_sales', index = 'type')\n",
    "df.pivot_table(values='weekly_sales', index = 'type', aggfunc=[np.mean, np.median])\n",
    "df.pivot_table(values='unemployment', index='store', columns = 'type')\n",
    "df.pivot_table(values='weekly_sales', index='type', columns='is_holiday')\n",
    "df.pivot_table(values='unemployment', index='store', columns = 'type', fill_value =0)\n",
    "df.pivot_table(values='unemployment', index='store', columns = 'type', fill_value=0, margins=True)#summary statistic"
   ]
  },
  {
   "cell_type": "code",
   "execution_count": 17,
   "id": "afe8b3dc",
   "metadata": {},
   "outputs": [
    {
     "data": {
      "text/html": [
       "<div>\n",
       "<style scoped>\n",
       "    .dataframe tbody tr th:only-of-type {\n",
       "        vertical-align: middle;\n",
       "    }\n",
       "\n",
       "    .dataframe tbody tr th {\n",
       "        vertical-align: top;\n",
       "    }\n",
       "\n",
       "    .dataframe thead tr th {\n",
       "        text-align: left;\n",
       "    }\n",
       "\n",
       "    .dataframe thead tr:last-of-type th {\n",
       "        text-align: right;\n",
       "    }\n",
       "</style>\n",
       "<table border=\"1\" class=\"dataframe\">\n",
       "  <thead>\n",
       "    <tr>\n",
       "      <th></th>\n",
       "      <th>mean</th>\n",
       "      <th>median</th>\n",
       "    </tr>\n",
       "    <tr>\n",
       "      <th></th>\n",
       "      <th>unemployment</th>\n",
       "      <th>unemployment</th>\n",
       "    </tr>\n",
       "    <tr>\n",
       "      <th>type</th>\n",
       "      <th></th>\n",
       "      <th></th>\n",
       "    </tr>\n",
       "  </thead>\n",
       "  <tbody>\n",
       "    <tr>\n",
       "      <th>A</th>\n",
       "      <td>7.972611</td>\n",
       "      <td>8.067</td>\n",
       "    </tr>\n",
       "    <tr>\n",
       "      <th>B</th>\n",
       "      <td>9.279323</td>\n",
       "      <td>9.199</td>\n",
       "    </tr>\n",
       "  </tbody>\n",
       "</table>\n",
       "</div>"
      ],
      "text/plain": [
       "             mean       median\n",
       "     unemployment unemployment\n",
       "type                          \n",
       "A        7.972611        8.067\n",
       "B        9.279323        9.199"
      ]
     },
     "execution_count": 17,
     "metadata": {},
     "output_type": "execute_result"
    }
   ],
   "source": [
    "df.pivot_table(values='unemployment', index='type', columns = 'is_holiday', fill_value=0, margins=True)\n",
    "df.pivot_table(values='unemployment', index = 'type', aggfunc=[np.mean, np.median])"
   ]
  }
 ],
 "metadata": {
  "kernelspec": {
   "display_name": "Python 3",
   "language": "python",
   "name": "python3"
  },
  "language_info": {
   "codemirror_mode": {
    "name": "ipython",
    "version": 3
   },
   "file_extension": ".py",
   "mimetype": "text/x-python",
   "name": "python",
   "nbconvert_exporter": "python",
   "pygments_lexer": "ipython3",
   "version": "3.8.8"
  }
 },
 "nbformat": 4,
 "nbformat_minor": 5
}
