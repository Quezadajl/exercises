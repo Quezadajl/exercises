{
 "cells": [
  {
   "cell_type": "code",
   "execution_count": null,
   "id": "0fd3a7cd",
   "metadata": {},
   "outputs": [],
   "source": [
    "import pandas as pd\n",
    "import numpy as np"
   ]
  },
  {
   "cell_type": "code",
   "execution_count": null,
   "id": "57f1ce58",
   "metadata": {},
   "outputs": [],
   "source": [
    "df = pd.read_csv(\"../data/sales_subset.csv\")"
   ]
  },
  {
   "cell_type": "code",
   "execution_count": null,
   "id": "c3dcb9fa",
   "metadata": {},
   "outputs": [],
   "source": [
    "df.head()"
   ]
  },
  {
   "cell_type": "code",
   "execution_count": null,
   "id": "0c483c87",
   "metadata": {
    "scrolled": true
   },
   "outputs": [],
   "source": [
    "df.info()\n",
    "df['weekly_sales'].mean()\n",
    "df['weekly_sales'].median()"
   ]
  },
  {
   "cell_type": "code",
   "execution_count": null,
   "id": "3929cb2c",
   "metadata": {},
   "outputs": [],
   "source": [
    "df['date'].max()\n",
    "df['date'].min()"
   ]
  },
  {
   "cell_type": "code",
   "execution_count": null,
   "id": "6a2a2ba8",
   "metadata": {},
   "outputs": [],
   "source": [
    "#Using the function below, calculate the IQR when your data contains outliers\n",
    "def iqr(column):\n",
    "    return column.quantile(0.75) - column.quantile(0.25)\n",
    "\n",
    "print(df[['temperature_c','fuel_price_usd_per_l', 'unemployment']].agg(iqr))"
   ]
  },
  {
   "cell_type": "code",
   "execution_count": null,
   "id": "024a43e9",
   "metadata": {},
   "outputs": [],
   "source": [
    "print(df[['temperature_c','fuel_price_usd_per_l','unemployment']].agg([iqr, np.median]))"
   ]
  },
  {
   "cell_type": "code",
   "execution_count": null,
   "id": "c4aff33b",
   "metadata": {},
   "outputs": [],
   "source": [
    "#Cumulative statistics\n",
    "df = df.sort_values('date')\n",
    "#print(df)\n",
    "df['cum_weekly_sales'] = df['weekly_sales'].cumsum()\n",
    "#print(df)\n",
    "df['cum_max_sales'] = df['weekly_sales'].cummax()\n",
    "#print(df)\n",
    "print(df[['date','weekly_sales','cum_weekly_sales','cum_max_sales']])"
   ]
  },
  {
   "cell_type": "code",
   "execution_count": null,
   "id": "3b5e88bc",
   "metadata": {},
   "outputs": [],
   "source": [
    "#Summarize Categorical data\n",
    "#df.drop_duplicates(subset=['store','department'])\n",
    "store_types = df.drop_duplicates(subset=['store','type'])\n",
    "store_depts= df.drop_duplicates(subset=['store','department'])\n",
    "holiday_dates = df[df['is_holiday']].drop_duplicates('date')\n",
    "print(holiday_dates)"
   ]
  },
  {
   "cell_type": "code",
   "execution_count": null,
   "id": "f8450bbe",
   "metadata": {},
   "outputs": [],
   "source": [
    "df['store'].value_counts(sort=True)\n",
    "#normalize argument can turn the count into proportions of the total\n",
    "df['store'].value_counts(normalize=True)\n",
    "df.groupby('store')['weekly_sales'].mean()\n",
    "df.groupby('department')['weekly_sales'].agg([min,max,sum])\n",
    "df.groupby(['store','department'])['weekly_sales'].mean()\n",
    "df.groupby(['store','department'])[['weekly_sales','unemployment']].mean()"
   ]
  },
  {
   "cell_type": "code",
   "execution_count": null,
   "id": "bd0f9c54",
   "metadata": {},
   "outputs": [],
   "source": [
    "#What percent of sales occured at each store type\n",
    "sales_all = df['weekly_sales'].sum()\n",
    "sales_A = df[df['type']== 'A']['weekly_sales'].sum()\n",
    "sales_B = df[df['type']== 'B']['weekly_sales'].sum()\n",
    "sales_C = df[df['type']== 'C']['weekly_sales'].sum()\n",
    "#Get proportion for each type\n",
    "sales_propn_by_type = [sales_A, sales_B, sales_C]/ sales_all\n",
    "print(sales_propn_by_type)"
   ]
  },
  {
   "cell_type": "code",
   "execution_count": null,
   "id": "6d89809f",
   "metadata": {},
   "outputs": [],
   "source": [
    "#calculations with .groupby()\n",
    "sales_by_type = df.groupby('type')['weekly_sales'].sum()\n",
    "sales_by_type_is_holiday = df.groupby(['type','is_holiday'])['weekly_sales'].sum()\n",
    "print(sales_by_type_is_holiday)"
   ]
  },
  {
   "cell_type": "code",
   "execution_count": null,
   "id": "3d93eb1c",
   "metadata": {},
   "outputs": [],
   "source": [
    "#multiple grouped summaries\n",
    "import numpy as np\n",
    "sales_stats = df.groupby('weekly_sales').agg([min, max, np.mean, np.median])\n",
    "print(sales_stats)"
   ]
  },
  {
   "cell_type": "code",
   "execution_count": null,
   "id": "aaa825bb",
   "metadata": {},
   "outputs": [],
   "source": [
    "unemp_fuel_stats = df.groupby('type')[['unemployment','fuel_price_usd_per_l']].agg([min, max,np.mean, np.median])\n",
    "print(unemp_fuel_stats)"
   ]
  },
  {
   "cell_type": "code",
   "execution_count": null,
   "id": "53c394b4",
   "metadata": {},
   "outputs": [],
   "source": [
    "#pivot tables in pandas, values = column to summarize and index = groupby; pivot_table always takes the mean value for each \n",
    "#-- group by default\n",
    "df.pivot_table(values='weekly_sales', index = 'type')\n",
    "df.pivot_table(values='weekly_sales', index = 'type', aggfunc=[np.mean, np.median])\n",
    "df.pivot_table(values='unemployment', index='store', columns = 'type')\n",
    "df.pivot_table(values='weekly_sales', index='type', columns='is_holiday')\n",
    "df.pivot_table(values='unemployment', index='store', columns = 'type', fill_value =0)\n",
    "df.pivot_table(values='unemployment', index='store', columns = 'type', fill_value=0, margins=True)#summary statistic"
   ]
  },
  {
   "cell_type": "code",
   "execution_count": null,
   "id": "324229bb",
   "metadata": {},
   "outputs": [],
   "source": [
    "df.pivot_table(values='unemployment', index='type', columns = 'is_holiday', fill_value=0, margins=True)\n",
    "df.pivot_table(values='unemployment', index = 'type', aggfunc=[np.mean, np.median])"
   ]
  },
  {
   "cell_type": "code",
   "execution_count": null,
   "id": "afe8b3dc",
   "metadata": {},
   "outputs": [],
   "source": []
  }
 ],
 "metadata": {
  "kernelspec": {
   "display_name": "Python 3",
   "language": "python",
   "name": "python3"
  },
  "language_info": {
   "codemirror_mode": {
    "name": "ipython",
    "version": 3
   },
   "file_extension": ".py",
   "mimetype": "text/x-python",
   "name": "python",
   "nbconvert_exporter": "python",
   "pygments_lexer": "ipython3",
   "version": "3.8.8"
  }
 },
 "nbformat": 4,
 "nbformat_minor": 5
}
